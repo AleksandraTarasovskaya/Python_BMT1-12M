{
  "cells": [
    {
      "cell_type": "markdown",
      "metadata": {
        "id": "lhLob9zN-iVt"
      },
      "source": [
        "#ЛР №4\n",
        "\n",
        "Словари. Работа с файлами."
      ]
    },
    {
      "cell_type": "markdown",
      "metadata": {
        "id": "-5EeVmGm-x2f"
      },
      "source": [
        "###Словари"
      ]
    },
    {
      "cell_type": "markdown",
      "metadata": {
        "id": "BG-CA7iE-LIG"
      },
      "source": [
        "**Задача 1**\n"
      ]
    },
    {
      "cell_type": "code",
      "execution_count": null,
      "metadata": {
        "id": "GitAOGilDkMX",
        "colab": {
          "base_uri": "https://localhost:8080/"
        },
        "outputId": "df057233-1aa8-4d85-97ab-e3ff8029959f"
      },
      "outputs": [
        {
          "output_type": "stream",
          "name": "stdout",
          "text": [
            " питон по-английски будет python\n",
            "анаконда по-английски будет anaconda\n",
            "змея по-английски будет snake\n",
            " черепаха по-английски будет tortoise\n"
          ]
        }
      ],
      "source": [
        "rept = {\"python\" : \" питон\", \"anaconda\" : \"анаконда\", \"tortoize\" : \" черепаха\" }\n",
        "\n",
        "rept.update({'snake':\"змея\"})\n",
        "\n",
        "rept[\"tortoise\"]=rept.pop(\"tortoize\")\n",
        "\n",
        "for k  in rept:\n",
        "    print(rept[k], \"по-английски будет\", k)\n"
      ]
    },
    {
      "cell_type": "markdown",
      "metadata": {
        "id": "3sUcwVtFDkMY"
      },
      "source": [
        "* Добавьте в словарь пару \"snake\" - \" змея\".\n",
        "* Исправьте ключ \"tortoize\" на правильный \"tortoise\".\n",
        "* Выведите на экран сообщения вида\n",
        "\n",
        "    питон по-английски будет python;\n",
        "\n",
        "для всех слов в словаре (сообщение для каждого слова ‒ с новой строчки)."
      ]
    },
    {
      "cell_type": "markdown",
      "metadata": {
        "id": "O1XyysKvkx0y"
      },
      "source": [
        "**Задача 2**\n"
      ]
    },
    {
      "cell_type": "markdown",
      "metadata": {
        "id": "ToKcmGBUD7ur"
      },
      "source": [
        "В списке cnt хранятся названия стран, а в списке fh ‒ значения индекса Freedom House для этих стран. Создайте словарь, используя в качестве ключей названия стран, а в качестве значений ‒ значения индекса."
      ]
    },
    {
      "cell_type": "code",
      "execution_count": null,
      "metadata": {
        "id": "2Ivk3o3tD_2b",
        "colab": {
          "base_uri": "https://localhost:8080/"
        },
        "outputId": "d17a02d4-6eac-4cad-fc6f-af5a374f77cb"
      },
      "outputs": [
        {
          "output_type": "execute_result",
          "data": {
            "text/plain": [
              "{'Andorra': 1.0,\n",
              " 'Belarus': 6.0,\n",
              " 'Denmark': 1.0,\n",
              " 'Kenya': 4.0,\n",
              " 'Jamaica': 2.5,\n",
              " 'Romania': 2.0}"
            ]
          },
          "metadata": {},
          "execution_count": 10
        }
      ],
      "source": [
        "cnt = [\"Andorra\", \"Belarus\", \"Denmark\", \"Kenya\", \"Jamaica\", \"Romania\"]\n",
        "fh = [1.0, 6.0, 1.0, 4.0, 2.5, 2.0]\n",
        "\n",
        "my_dict = dict(list(zip(cnt, fh)))\n",
        "my_dict"
      ]
    },
    {
      "cell_type": "markdown",
      "metadata": {
        "id": "RwoDKLpSxQS1"
      },
      "source": [
        "**Задача 3**\n",
        "\n",
        "\n",
        "Напишите функцию, которая принимает на вход два списка (имена людей и их возраст) и делает следующее:\n",
        "\n",
        "* если эти два списка имеют одинаковую длину, то возвращает словарь с парами имя-возраст;\n",
        "\n",
        "* если эти два списка имеют разную длину, то функция выводит на экран сообщение \"Списки имеют разную длину\" и возвращает пустой словарь.\n",
        "\n",
        "**Пример:**\n",
        "\n",
        "*Входные данные:*\n",
        "\n",
        "    [\"Ann\", \"Tim\", \"Sam\"]\n",
        "    [12, 23, 17]\n",
        "\n",
        "*Выходные данные:*\n",
        "\n",
        "    {\"Ann\": 12, \"Tim\": 23, \"Sam\": 17}\n",
        "\n",
        "*Входные данные:*\n",
        "\n",
        "    [\"Ann\", \"Tim\", \"Sam\"]\n",
        "    [12, 23, 17, 45]\n",
        "\n",
        "*Выходные данные:*\n",
        "    \n",
        "    Списки имеют разную длину\n",
        "    {}"
      ]
    },
    {
      "cell_type": "code",
      "source": [
        "def create_dict(list1, list2):\n",
        "  if len(list1)==len(list2):\n",
        "    my_dict = dict(list(zip(list1, list2)))\n",
        "  else:\n",
        "    my_dict={}\n",
        "    print(\"Списки имеют разную длину\")\n",
        "\n",
        "  return my_dict\n",
        "\n",
        "\n",
        "A=[\"Ann\", \"Tim\", \"Sam\"]\n",
        "B=[12, 23, 17]\n",
        "\n",
        "print(create_dict(A,B))\n",
        "\n",
        "A1=[\"Ann\", \"Tim\", \"Sam\"]\n",
        "B1=[12, 23, 17, 45]\n",
        "\n",
        "print(create_dict(A1,B1))\n"
      ],
      "metadata": {
        "colab": {
          "base_uri": "https://localhost:8080/"
        },
        "id": "lZ9EdU6P2lay",
        "outputId": "41305971-000e-40bb-ec91-e19a28ef289f"
      },
      "execution_count": null,
      "outputs": [
        {
          "output_type": "stream",
          "name": "stdout",
          "text": [
            "{'Ann': 12, 'Tim': 23, 'Sam': 17}\n",
            "Списки имеют разную длину\n",
            "{}\n"
          ]
        }
      ]
    },
    {
      "cell_type": "markdown",
      "metadata": {
        "id": "hEk51uFc8Nwt"
      },
      "source": [
        "**Задача 4**\n"
      ]
    },
    {
      "cell_type": "markdown",
      "metadata": {
        "id": "XywnLQkxDuwV"
      },
      "source": [
        "Представим, что журнал оценок студентов по изучаемым дисциплинам - это вложенный словарь.\n",
        "\n",
        "Например, {'Ivanov': {'Math':4, 'Physics':5}, 'Sidorov': {'Java':5}}.\n",
        "\n",
        " Ключи журнала - список уникальных фамилий, значения - словарь, где ключ - это дисциплина, а значения - оценки по ним.\n",
        "\n",
        " Напишите функцию, которая вносит изменения в журнал.\n",
        "\n",
        " В качестве аргумента функции передается словарь вида: {'namе': 'Ivanov', 'subject': 'Python', 'mark':5}.\n",
        "\n",
        " Результат работы функции: {'Ivanov': {'Math':4, 'Physics':5, 'Python':5}, 'Sidorov': {'Java':5}}\n",
        "\n",
        " Если оценка по дисциплине уже существует и отличается от вносимой, необходимо изменить оценку в журнале и вывести сообщение - \"оценка изменена\".\n",
        "\n",
        " Если дисциплина оценка и дисциплина полностью совпадают с тем, что уже есть в журнале, то вевести сообщение \"оценка по дисциплине ______ уже существует\".\n"
      ]
    },
    {
      "cell_type": "code",
      "source": [
        "def change_dict(dict1,dict2):\n",
        "  flag=0\n",
        "  for sub in dict1[dict2[\"name\"]]:\n",
        "    if sub==dict2[\"subject\"]:\n",
        "      flag=1\n",
        "      if dict1[dict2[\"name\"]][sub]==dict2[\"mark\"]:\n",
        "        print(\"Оценка по дисциплине \"+ str(sub) +\" уже существует\")\n",
        "      else:\n",
        "        dict1[dict2[\"name\"]][sub]=dict2[\"mark\"]\n",
        "        print(\"Оценка по дисциплине \"+ str(sub) +\" изменена\")\n",
        "  if flag ==0:\n",
        "    dict1[dict2[\"name\"]].update({dict2[\"subject\"]:dict2[\"mark\"]})\n",
        "    print(\"Журнал обновлен:\", dict1)\n",
        "\n",
        "marks_and_students={'Ivanov': {'Math':4, 'Physics':5}, 'Sidorov': {'Java':5}}\n",
        "changes={'name': 'Ivanov', 'subject': 'Python', 'mark':5}\n",
        "change_dict(marks_and_students, changes)"
      ],
      "metadata": {
        "colab": {
          "base_uri": "https://localhost:8080/"
        },
        "id": "2H3_MO_U37mk",
        "outputId": "0b7ac538-87ea-4080-bbfe-8f785bb6f909"
      },
      "execution_count": null,
      "outputs": [
        {
          "output_type": "stream",
          "name": "stdout",
          "text": [
            "Журнал обновлен: {'Ivanov': {'Math': 4, 'Physics': 5, 'Python': 5}, 'Sidorov': {'Java': 5}}\n"
          ]
        }
      ]
    },
    {
      "cell_type": "code",
      "source": [],
      "metadata": {
        "id": "y6sjV-LF8VO7"
      },
      "execution_count": null,
      "outputs": []
    },
    {
      "cell_type": "markdown",
      "metadata": {
        "id": "sYsOBH-r8MaQ"
      },
      "source": [
        "**Задача 5**\n"
      ]
    },
    {
      "cell_type": "markdown",
      "metadata": {
        "id": "sk3FDUQ5k6z-"
      },
      "source": [
        "Есть список товаров с указанием их количества в виде словаря: [{'product':'shirt', 'number':10}, {'product':'jeans', 'number':5}, {'product':'shuffle', 'number':4}]\n",
        "\n",
        "Вывести наименование товара с наибольшим количеством."
      ]
    },
    {
      "cell_type": "code",
      "source": [
        "list=[{'product':'shirt', 'number':10}, {'product':'jeans', 'number':5}, {'product':'shuffle', 'number':4}]\n",
        "max=list[2]['number']\n",
        "\n",
        "for dict in list:\n",
        "    if dict['number']>max:\n",
        "      max=dict['number']\n",
        "      prod=dict['product']\n",
        "\n",
        "\n",
        "print(prod, max)\n",
        "\n",
        "\n"
      ],
      "metadata": {
        "colab": {
          "base_uri": "https://localhost:8080/"
        },
        "id": "pTOPQI47-Np4",
        "outputId": "05c8ceb3-cd7e-41b0-cfd2-c4060603deee"
      },
      "execution_count": null,
      "outputs": [
        {
          "output_type": "stream",
          "name": "stdout",
          "text": [
            "shirt 10\n"
          ]
        }
      ]
    },
    {
      "cell_type": "code",
      "source": [],
      "metadata": {
        "id": "qVtE8Re3_HMM"
      },
      "execution_count": null,
      "outputs": []
    },
    {
      "cell_type": "markdown",
      "metadata": {
        "id": "JBNMO47GEqUE"
      },
      "source": [
        "###Файлы\n"
      ]
    },
    {
      "cell_type": "markdown",
      "metadata": {
        "id": "9BzwyFbAFbPv"
      },
      "source": [
        " **Задача 6**\n",
        " 1. Загрузите txt файл с вашим ФИО на первой строчке на гугл диск или локально\n",
        " 2. Дополните файл строкой \"Ваш возраст: \", сохраните файл\n",
        " 3. Оформите код в виде функцию, где аргументы функции - путь к файлу и возраст"
      ]
    },
    {
      "cell_type": "code",
      "source": [
        "from google.colab import drive\n",
        "drive.mount('/content/drive')\n"
      ],
      "metadata": {
        "colab": {
          "base_uri": "https://localhost:8080/"
        },
        "id": "kKbT_4fX_xji",
        "outputId": "fb4f7272-a0ab-4725-f356-4b3e1feb2ae2"
      },
      "execution_count": null,
      "outputs": [
        {
          "output_type": "stream",
          "name": "stdout",
          "text": [
            "Drive already mounted at /content/drive; to attempt to forcibly remount, call drive.mount(\"/content/drive\", force_remount=True).\n"
          ]
        }
      ]
    },
    {
      "cell_type": "code",
      "source": [
        "def change_file(file_path, old):\n",
        "\n",
        "  f = open(file_path, 'a')\n",
        "  f.write(\"\\nВаш возраст:\"+ str(old))\n",
        "  f.close()\n",
        "  print(\"Файл изменен\")\n",
        "\n",
        "\n",
        "change_file('drive/My Drive/Colab Notebooks/Seminar4/data.txt', 22)"
      ],
      "metadata": {
        "colab": {
          "base_uri": "https://localhost:8080/"
        },
        "id": "oDGxhHOaCQQV",
        "outputId": "cd97ce3c-2767-4107-d2a3-692568cc49e3"
      },
      "execution_count": null,
      "outputs": [
        {
          "output_type": "stream",
          "name": "stdout",
          "text": [
            "Файл изменен\n"
          ]
        }
      ]
    },
    {
      "cell_type": "markdown",
      "metadata": {
        "id": "jMGZ8536644a"
      },
      "source": [
        "# Задачи со звездочками (Дополнительные)"
      ]
    },
    {
      "cell_type": "markdown",
      "metadata": {
        "id": "vX07NfjbKySe"
      },
      "source": [
        "##** Задача на словари (на самом деле не сложная, просто длинное описание и тесты)"
      ]
    },
    {
      "cell_type": "markdown",
      "metadata": {
        "id": "fSHvvfBTYjO0"
      },
      "source": [
        "1. Нужно написать функцию process(), реализующую подсчет пассажиров, гуляющих по вагонам поездов.\n",
        "\n",
        "\n",
        "\n",
        "Изначально вам известна информация о поездах, прицепленных к ним вагонах и находящихся в вагонах людях.\n",
        "\n",
        "Также вам дан набор событий, которые выполняются в порядке их перечисления во входных данных. События бывают следующих типов:\n",
        "\n",
        "walk — Указанный пассажир прошел указанное количество вагонов. Если число положительное, то он идет к хвосту поезда, если отрицательное - то к началу.\n",
        "\n",
        "switch — У указанного поезда отцепили с конца указанное количество вагонов и прицепили к другому указанному поезду (в конец)\n",
        "\n",
        "После исполнения всех событий вам нужно получить результат: количество пассажиров в указанном вагоне.\n",
        "\n",
        "Эта функция получит на вход словарь с начальным расположением пассажиров, массив событий и вагон, для которого нужно указать окончательное количество пассажиров. В качестве результата функция должна вернуть одно число — количество пассажиров после исполнения всех событий.\n",
        "\n",
        "События могут содержать невалидный набор операций, например: слишком большое количество вагонов в переходе или сцепке, обращение к несуществующему пользователю. В этом случае не должно возникать исключений, а должен возвращаться результат «-1» (также числом)."
      ]
    }
  ],
  "metadata": {
    "colab": {
      "provenance": []
    },
    "kernelspec": {
      "display_name": "Python 3 (ipykernel)",
      "language": "python",
      "name": "python3"
    },
    "language_info": {
      "codemirror_mode": {
        "name": "ipython",
        "version": 3
      },
      "file_extension": ".py",
      "mimetype": "text/x-python",
      "name": "python",
      "nbconvert_exporter": "python",
      "pygments_lexer": "ipython3",
      "version": "3.10.11"
    }
  },
  "nbformat": 4,
  "nbformat_minor": 0
}