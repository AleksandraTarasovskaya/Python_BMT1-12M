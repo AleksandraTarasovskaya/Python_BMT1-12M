{
  "cells": [
    {
      "cell_type": "markdown",
      "metadata": {
        "id": "lhLob9zN-iVt"
      },
      "source": [
        "#ЛР №3\n",
        "\n",
        "Функции. Локальные и глобальные переменные. Передача аргументов. Строки. Списки. Кортежи. Множества."
      ]
    },
    {
      "cell_type": "markdown",
      "metadata": {
        "id": "_ot7J5B7-lqU"
      },
      "source": [
        "###Строки"
      ]
    },
    {
      "cell_type": "markdown",
      "metadata": {
        "id": "sR3UwvJQ9Uvs"
      },
      "source": [
        "**Задача 1**\n",
        "\n",
        "Дана строка, содержащая русскоязычный текст. Найти количество слов, начинающихся с буквы \"е\"."
      ]
    },
    {
      "cell_type": "code",
      "source": [
        "string=\"Единорог пахнет ежевикой\"\n",
        "liststring =string.split()\n",
        "count=0\n",
        "for word in liststring:\n",
        "  if (word[0] == \"е\") | (word[0] == \"Е\"):\n",
        "    count+=1\n",
        "count"
      ],
      "metadata": {
        "colab": {
          "base_uri": "https://localhost:8080/"
        },
        "id": "M4Enw9WIbfR0",
        "outputId": "cc749724-e3a1-43d4-d1f2-6c657f5d1a69"
      },
      "execution_count": null,
      "outputs": [
        {
          "output_type": "execute_result",
          "data": {
            "text/plain": [
              "2"
            ]
          },
          "metadata": {},
          "execution_count": 2
        }
      ]
    },
    {
      "cell_type": "markdown",
      "metadata": {
        "id": "eWHksfRo91M7"
      },
      "source": [
        "**Задача 2**\n",
        "\n",
        "Дана строка, заканчивающаяся точкой. Подсчитать, сколько слов в строке.\n",
        "\n"
      ]
    },
    {
      "cell_type": "code",
      "source": [
        "string=\"Сегодня проходит третья лабораторная работа по Питону.\"\n",
        "liststring =string.split()\n",
        "len(liststring)"
      ],
      "metadata": {
        "colab": {
          "base_uri": "https://localhost:8080/"
        },
        "id": "nNt-L7FL40xB",
        "outputId": "ec70fb22-3c4e-43d0-c738-941487855ee7"
      },
      "execution_count": null,
      "outputs": [
        {
          "output_type": "execute_result",
          "data": {
            "text/plain": [
              "7"
            ]
          },
          "metadata": {},
          "execution_count": 1
        }
      ]
    },
    {
      "cell_type": "markdown",
      "metadata": {
        "id": "Ce8Ro3I5984e"
      },
      "source": [
        "**Задача 3**\n",
        "\n",
        "В строке заменить все двоеточия (:) знаком процента (%). Подсчитать\n",
        "количество замен."
      ]
    },
    {
      "cell_type": "code",
      "source": [
        "message = \"I like animals: cats and dogs, and don't like another: snakes.\"\n",
        "message1 = message.replace(':', '%')\n",
        "number_message = message.count(':')\n",
        "print(message)\n",
        "print(message1)\n",
        "print(number_message)\n"
      ],
      "metadata": {
        "colab": {
          "base_uri": "https://localhost:8080/"
        },
        "id": "U1gP-MscdDda",
        "outputId": "9b3cac70-f59e-49a6-993b-38c09de1bbd3"
      },
      "execution_count": null,
      "outputs": [
        {
          "output_type": "stream",
          "name": "stdout",
          "text": [
            "I like animals: cats and dogs, and don't like another: snakes.\n",
            "I like animals% cats and dogs, and don't like another% snakes.\n",
            "2\n"
          ]
        }
      ]
    },
    {
      "cell_type": "markdown",
      "metadata": {
        "id": "hOMAXar6-fO1"
      },
      "source": [
        "###Списки"
      ]
    },
    {
      "cell_type": "markdown",
      "metadata": {
        "id": "CABMlL55-IQW"
      },
      "source": [
        "**Задача 4**\n",
        "\n",
        "1. Дан одномерный массив из 10 целых чисел. Найти среднее значение и сравнить с ним остальные элементы. Вывести количество меньших срденего и больших среднего элемента.\n",
        "2. Одномерный массив из 10-и целых чисел заполнить с клавиатуры,\n",
        "определить сумму тех чисел, которые >5."
      ]
    },
    {
      "cell_type": "code",
      "source": [
        "data=[2,5,7,4,5,1,11,20,50,42]\n",
        "average = sum(data) / len(data)\n",
        "number_min=0\n",
        "number_max=0\n",
        "for i in data:\n",
        "  if i>average:\n",
        "    number_max+=1\n",
        "  if i<average:\n",
        "    number_min+=1\n",
        "print(\"Массив: \", data)\n",
        "print(\"Среднее значение: \", average)\n",
        "print(\"Количество элементов массива, меньших среднего: \", number_min)\n",
        "print(\"Количество элементов массива, больших среднего: \", number_max)\n"
      ],
      "metadata": {
        "colab": {
          "base_uri": "https://localhost:8080/"
        },
        "id": "LUGwq_rteA2t",
        "outputId": "28af7ffa-22e7-43d9-a80c-e3473ab76549"
      },
      "execution_count": null,
      "outputs": [
        {
          "output_type": "stream",
          "name": "stdout",
          "text": [
            "Массив:  [2, 5, 7, 4, 5, 1, 11, 20, 50, 42]\n",
            "Среднее значение:  14.7\n",
            "Количество элементов массива, меньших среднего:  7\n",
            "Количество элементов массива, больших среднего:  3\n"
          ]
        }
      ]
    },
    {
      "cell_type": "code",
      "source": [
        "lst = [int(i) for i in input(\"Введите элементы списка через пробел: \").split()]\n",
        "print(lst)\n",
        "sum=0\n",
        "for i in lst:\n",
        "  if i>5:\n",
        "    sum=sum+i\n",
        "sum\n",
        "\n"
      ],
      "metadata": {
        "colab": {
          "base_uri": "https://localhost:8080/"
        },
        "id": "JAAxszaIfXXU",
        "outputId": "290d6f18-a7d2-49ef-dde9-e0726a4d28fb"
      },
      "execution_count": null,
      "outputs": [
        {
          "output_type": "stream",
          "name": "stdout",
          "text": [
            "Введите элементы списка через пробел: 1 2 2 3 4 5  6  7 8 9\n",
            "[1, 2, 2, 3, 4, 5, 6, 7, 8, 9]\n"
          ]
        },
        {
          "output_type": "execute_result",
          "data": {
            "text/plain": [
              "30"
            ]
          },
          "metadata": {},
          "execution_count": 19
        }
      ]
    },
    {
      "cell_type": "markdown",
      "metadata": {
        "id": "hLIYEyrt-KdW"
      },
      "source": [
        "**Задача 5**\n",
        "\n",
        "1. Дан одномерный массив, состоящий из N вещественных элементов. Ввести\n",
        "массив с клавиатуры. Найти и вывести минимальный по модулю элемент.\n",
        "Вывести массив на экран в обратном порядке.\n",
        "2. Даны массивы A и B одинакового размера 10. Вывести исходные массивы.\n",
        "Поменять местами их содержимое и вывести в начале элементы\n",
        "преобразованного массива A, а затем — элементы преобразованного массива\n",
        "B."
      ]
    },
    {
      "cell_type": "code",
      "source": [
        "lst = [float(i) for i in input(\"Введите элементы списка через пробел: \").split()]\n",
        "\n",
        "min= lst[0]\n",
        "min_abs=abs(lst[0])\n",
        "for i in lst:\n",
        "  if abs(i)< min_abs:\n",
        "    min_abs=abs(i)\n",
        "    min=i\n",
        "print (\"Минимальный по модулю элемент:\", min)\n",
        "print(\"Массив в обратном порядке:\", lst[::-1])\n",
        "\n",
        "\n"
      ],
      "metadata": {
        "colab": {
          "base_uri": "https://localhost:8080/"
        },
        "id": "KLKia7iLiiKa",
        "outputId": "a67c2dd8-22fe-400d-9130-7f4e40d40cb5"
      },
      "execution_count": null,
      "outputs": [
        {
          "output_type": "stream",
          "name": "stdout",
          "text": [
            "Введите элементы списка через пробел: -5 2 3 -1.5\n",
            "Минимальный по модулю элемент: -1.5\n",
            "Массив в обратном порядке: [-1.5, 3.0, 2.0, -5.0]\n"
          ]
        }
      ]
    },
    {
      "cell_type": "code",
      "source": [
        "A=[2,5,7,4,5,1,11,20,50,42]\n",
        "B=[3,6,8,6,6,2,21,30,45,40]\n",
        "C=A\n",
        "A=B\n",
        "B=C\n",
        "print(\"A:\",A)\n",
        "print(\"B:\",B)"
      ],
      "metadata": {
        "colab": {
          "base_uri": "https://localhost:8080/"
        },
        "id": "LV4_L03ql_sH",
        "outputId": "5beed949-1d23-490a-c391-47e14353d8a0"
      },
      "execution_count": null,
      "outputs": [
        {
          "output_type": "stream",
          "name": "stdout",
          "text": [
            "A: [3, 6, 8, 6, 6, 2, 21, 30, 45, 40]\n",
            "B: [2, 5, 7, 4, 5, 1, 11, 20, 50, 42]\n"
          ]
        }
      ]
    },
    {
      "cell_type": "markdown",
      "metadata": {
        "id": "Lz0Qs2Eh-oJj"
      },
      "source": [
        "###Функции"
      ]
    },
    {
      "cell_type": "markdown",
      "metadata": {
        "id": "sY1c1WF--K5N"
      },
      "source": [
        "**Задача 6**\n",
        "\n",
        "1. Составить программу для вычисления площади разных геометрических\n",
        "фигур.\n",
        "2. Даны 3 различных массива целых чисел (размер каждого не превышает 15). В\n",
        "каждом массиве найти сумму элементов и среднеарифметическое значение."
      ]
    },
    {
      "cell_type": "code",
      "source": [
        "import math\n",
        "def square(n, a):\n",
        "    return(n / 4 * a ** 2 / math.tan(math.pi / n))\n",
        "print(square(4, 2))"
      ],
      "metadata": {
        "id": "KdpEUenV7kFL"
      },
      "execution_count": null,
      "outputs": []
    },
    {
      "cell_type": "code",
      "source": [
        "\n",
        "def average(my_list):\n",
        "  average=sum(my_list)/len(my_list)\n",
        "  number=sum(my_list)\n",
        "  return average, number\n",
        "\n",
        "A=[2,5,7,4,5,1,11,20,50,42]\n",
        "B=[3,6,8,6,6,2,21,30,45,40]\n",
        "C=[3,6,8,6,6,2]\n",
        "av1, number=average(A)\n",
        "print(\"Среднее арифметическое массива А = \" + str(round(av1, 2))+\", сумма элементов массива = \" +str(number))\n",
        "av1, number=average(B)\n",
        "print(\"Среднее арифметическое массива B = \" + str(round(av1, 2))+\", сумма элементов массива = \" +str(number))\n",
        "av1, number=average(C)\n",
        "print(\"Среднее арифметическое массива C = \" + str(round(av1, 2))+\", сумма элементов массива = \" +str(number))\n",
        "\n"
      ],
      "metadata": {
        "colab": {
          "base_uri": "https://localhost:8080/"
        },
        "id": "3Bd1tOfjnxmP",
        "outputId": "6f77f56b-a162-4362-ca59-120bc1393d0e"
      },
      "execution_count": null,
      "outputs": [
        {
          "output_type": "stream",
          "name": "stdout",
          "text": [
            "Среднее арифметическое массива А = 14.7, сумма элементов массива = 147\n",
            "Среднее арифметическое массива B = 16.7, сумма элементов массива = 167\n",
            "Среднее арифметическое массива C = 5.17, сумма элементов массива = 31\n"
          ]
        }
      ]
    },
    {
      "cell_type": "markdown",
      "metadata": {
        "id": "Je2eui4dxQSM"
      },
      "source": [
        "**Задача 7**\n",
        "\n",
        "Напишите функцию `square()`, которая принимает на вход число и:\n",
        "\n",
        "* возвращает его квадрат;\n",
        "* выводит на экран сообщение вида \"Квадрат числа равен: n\" и ничего не возвращает;\n",
        "* выводит на экран сообщение вида \"Квадрат числа равен: n\" и возвращает квадрат числа;"
      ]
    },
    {
      "cell_type": "code",
      "source": [
        "def square1(n):\n",
        "  return n**2\n",
        "\n",
        "def square2(n):\n",
        "  print( \"Квадрат числа равен: \", n**2)\n",
        "\n",
        "def square3(n):\n",
        "  print( \"Квадрат числа равен: \", n**2)\n",
        "  return n**2\n",
        "\n",
        "print(square1(-4))\n",
        "square2(3)\n",
        "print(square3(-5))\n",
        "\n"
      ],
      "metadata": {
        "colab": {
          "base_uri": "https://localhost:8080/"
        },
        "id": "0W2ShEBC-pb3",
        "outputId": "51d9d2ae-99c2-4bd7-8bf0-dd3b985eb5fb"
      },
      "execution_count": null,
      "outputs": [
        {
          "output_type": "stream",
          "name": "stdout",
          "text": [
            "16\n",
            "Квадрат числа равен:  9\n",
            "Квадрат числа равен:  25\n",
            "25\n"
          ]
        }
      ]
    },
    {
      "cell_type": "markdown",
      "metadata": {
        "id": "B58-9v4_xQS0"
      },
      "source": [
        "**Задача 8**\n",
        "\n",
        "Напишите функцию `nums()`, которая принимает на вход целое число, а возвращает список из двух элементов: целое число, предшествующее принятому на вход, и число, следующее за ним.\n",
        "\n",
        "**Пример:**\n",
        "\n",
        "*Входные данные:*\n",
        "\n",
        "    7\n",
        "\n",
        "*Выходные данные:*\n",
        "\n",
        "    [6, 8]"
      ]
    },
    {
      "cell_type": "code",
      "source": [
        "def nums(n):\n",
        "    return [n - 1, n + 1]\n",
        "print(nums(int(input(\"Введите число: \"))))"
      ],
      "metadata": {
        "colab": {
          "base_uri": "https://localhost:8080/"
        },
        "id": "A54pFJSg_sSU",
        "outputId": "ea3432dc-735e-4284-a4ed-c69788686a6d"
      },
      "execution_count": null,
      "outputs": [
        {
          "output_type": "stream",
          "name": "stdout",
          "text": [
            "Введите число: 3\n",
            "[2, 4]\n"
          ]
        }
      ]
    },
    {
      "cell_type": "markdown",
      "metadata": {
        "id": "6NccBpE-xQS0"
      },
      "source": [
        "**Задача 9**\n",
        "\n",
        "Напишите функцию `str_lower()`, которая принимает на вход строку (набор слов через пробел), а возвращает список ее элементов в нижнем регистре.\n",
        "\n",
        "**Пример:**\n",
        "\n",
        "*Входные данные:*\n",
        "\n",
        "    \"В лесу родилась ёлочка В лесу она росла\"\n",
        "\n",
        "*Выходные данные:*\n",
        "\n",
        "    ['в', 'лесу', 'родилась', 'ёлочка', 'в', 'лесу', 'она', 'росла']"
      ]
    },
    {
      "cell_type": "code",
      "source": [
        "def str_lower(my_stroke):\n",
        "      return my_stroke.lower().split()\n",
        "str_lower(input(\"Введите строку: \"))"
      ],
      "metadata": {
        "colab": {
          "base_uri": "https://localhost:8080/"
        },
        "id": "7UFcx1X1Aik3",
        "outputId": "2501ccea-0378-41dd-a5ec-4052fe9617fa"
      },
      "execution_count": null,
      "outputs": [
        {
          "name": "stdout",
          "output_type": "stream",
          "text": [
            "Введите строку: Привет Андрей\n"
          ]
        },
        {
          "output_type": "execute_result",
          "data": {
            "text/plain": [
              "['привет', 'андрей']"
            ]
          },
          "metadata": {},
          "execution_count": 23
        }
      ]
    },
    {
      "cell_type": "markdown",
      "metadata": {
        "id": "WB3hG0lcxQS1"
      },
      "source": [
        "**Задача 10**\n",
        "\n",
        "Напишите функцию `my_log()`, которая принимает на вход список чисел, и возвращает список их натуральных логарифмов. Если число меньше или равно 0, на его месте в возвращаемом списке должно быть None.\n",
        "\n",
        "**Пример:**\n",
        "\n",
        "*Входные данные:*\n",
        "\n",
        "    [1, 3, 2.5, -1, 9, 0, 2.71]\n",
        "\n",
        "*Выходные данные:*\n",
        "\n",
        "    [0.0,\n",
        "     1.0986122886681098,\n",
        "     0.9162907318741551,\n",
        "     None,\n",
        "     2.1972245773362196,\n",
        "     None,\n",
        "     0.9969486348916096]"
      ]
    },
    {
      "cell_type": "code",
      "source": [
        "import math\n",
        "\n",
        "def my_log(my_list):\n",
        "  my_log_list=[]\n",
        "  for element in my_list:\n",
        "    if element>0:\n",
        "      my_log_list.append(math.log(element))\n",
        "    else:\n",
        "      my_log_list.append(None)\n",
        "  return my_log_list\n",
        "\n",
        "input_list=input(\"Введите список чисел:\").split()\n",
        "my_list=[]\n",
        "for element in input_list:\n",
        "  my_list.append(float(element))\n",
        "\n",
        "print(my_log(my_list))"
      ],
      "metadata": {
        "colab": {
          "base_uri": "https://localhost:8080/"
        },
        "id": "IBWDwPoUA8WV",
        "outputId": "22578801-7a31-47c5-f302-65dec0b2cac0"
      },
      "execution_count": null,
      "outputs": [
        {
          "output_type": "stream",
          "name": "stdout",
          "text": [
            "Введите список чисел:0 2 -3 4.5\n",
            "[None, 0.6931471805599453, None, 1.5040773967762742]\n"
          ]
        }
      ]
    },
    {
      "cell_type": "markdown",
      "metadata": {
        "id": "jyDgr5CyxQS1"
      },
      "source": [
        "**Задача 11**\n",
        "\n",
        "Напишите функцию `all_sort()`, которая принимает на вход перечень целых чисел через запятую (не список, а просто сколько угодно значений через запятую) и возвращает список этих значений, отсортированный по возрастанию.\n",
        "\n",
        "**Пример:**\n",
        "\n",
        "*Входные данные:*\n",
        "\n",
        "    7, 6, 1, 3, 8, 0, -2\n",
        "\n",
        "*Выходные данные:*\n",
        "\n",
        "    [-2, 0, 1, 3, 6, 7, 8]"
      ]
    },
    {
      "cell_type": "code",
      "source": [
        "def all_sort(input_list):\n",
        "  my_list=[]\n",
        "  for element in input_list:\n",
        "    my_list.append(int(element))\n",
        "  my_list.sort()\n",
        "  return my_list\n",
        "\n",
        "print(all_sort(input(\"Введите список чисел:\").split(\",\")))"
      ],
      "metadata": {
        "colab": {
          "base_uri": "https://localhost:8080/"
        },
        "id": "Qp97u8V4DbJv",
        "outputId": "94bd7000-756e-4b22-fa59-a5b82409f705"
      },
      "execution_count": null,
      "outputs": [
        {
          "output_type": "stream",
          "name": "stdout",
          "text": [
            "Введите список чисел:7, 6, 1, 3, 8, 0, -2\n",
            "[-2, 0, 1, 3, 6, 7, 8]\n"
          ]
        }
      ]
    },
    {
      "cell_type": "markdown",
      "metadata": {
        "id": "8XFMwL5SxQS3"
      },
      "source": [
        "**Задача 12**\n",
        "\n",
        "Напишите программу, которая принимает на вход список слов такого вида:\n",
        "\n",
        "    words = [\"Speak \",\"to\", \"me \", \"of\", \"Florence\" ,\"And \", \"of\", \"the\", \"Renaissance\"]\n",
        "\n",
        "а возвращает список\n",
        "\n",
        "    words_clean = [\"speak\", \"to\", \"me\", \"of\", \"florence\", \"and\", \"of\", \"the\", \"renaissance\"]\n",
        "\n",
        "Другими словами, программа убирает пробелы в словах и приводит все слова к нижнему регистру.\n",
        "\n",
        "**Подсказка:** запросите `help()`  по  методам `.strip()` и `.lower()`."
      ]
    },
    {
      "cell_type": "code",
      "source": [
        "def clean_words(words):\n",
        "  words_clean = []\n",
        "  for i in words:\n",
        "    cleaned_word = i.strip().lower()\n",
        "    words_clean.append(cleaned_word)\n",
        "  return words_clean\n",
        "words = [\"Speak \",\"to\", \"me \", \"of\", \"Florence\" ,\"And \", \"of\", \"the\", \"Renaissance\"]\n",
        "print(clean_words(words))"
      ],
      "metadata": {
        "colab": {
          "base_uri": "https://localhost:8080/"
        },
        "id": "THfrBHQMExXo",
        "outputId": "46e29bdb-2610-4386-9982-ea3ee0292d44"
      },
      "execution_count": null,
      "outputs": [
        {
          "output_type": "stream",
          "name": "stdout",
          "text": [
            "['speak', 'to', 'me', 'of', 'florence', 'and', 'of', 'the', 'renaissance']\n"
          ]
        }
      ]
    },
    {
      "cell_type": "markdown",
      "metadata": {
        "id": "pANOsyNGBZ6E"
      },
      "source": [
        "###Множества"
      ]
    },
    {
      "cell_type": "markdown",
      "metadata": {
        "id": "Wa5EWCae-LTu"
      },
      "source": [
        "**Задача 13**\n",
        "\n",
        "1. Придумайте 2 предложения. Выведите число слов и уникальных букв, которые присутствуют в каждом из двух предложениях.\n",
        "2. Выведите количестов уникальных букв, которые есть и в 1 и во 2 предложении."
      ]
    },
    {
      "cell_type": "code",
      "source": [
        "sentence1 = \"They say, the winter is cold.\"\n",
        "sentence2 = \"One can become a writer only if he is talented.\"\n",
        "a1 = set(sentence1.replace(',', '').replace('.', '').lower().split())\n",
        "a2 = set(sentence2.replace(',', '').replace('.', '').lower().split())\n",
        "aa1 = set(sentence1.replace(' ', '').replace(',', '').replace('.', '').lower())\n",
        "aa2 = set(sentence2.replace(' ', '').replace(',', '').replace('.', '').lower())\n",
        "print(\"Число слов: %d, уникальных букв: %d в предложении 1.\" %(len(a1), len(aa1)))\n",
        "print(\"Число слов: %d, уникальных букв: %d в предложении 2.\" %(len(a2), len(aa2)))\n",
        "print(\"Число уникальных букв, которые есть в обоих предложениях: %d.\" %len(aa1.union(aa2)))"
      ],
      "metadata": {
        "colab": {
          "base_uri": "https://localhost:8080/"
        },
        "id": "M9n0QozPF1PQ",
        "outputId": "5b158b54-0016-40be-830c-a91aa0e1ed71"
      },
      "execution_count": null,
      "outputs": [
        {
          "output_type": "stream",
          "name": "stdout",
          "text": [
            "Число слов: 6, уникальных букв: 14 в предложении 1.\n",
            "Число слов: 10, уникальных букв: 17 в предложении 2.\n",
            "Число уникальных букв, которые есть в обоих предложениях: 17.\n"
          ]
        }
      ]
    },
    {
      "cell_type": "markdown",
      "metadata": {
        "id": "pQkPUzF8zCgS"
      },
      "source": [
        "###Повторение"
      ]
    },
    {
      "cell_type": "markdown",
      "metadata": {
        "id": "p9271Yq8xQS1"
      },
      "source": [
        "**Задача 1**\n",
        "\n",
        "Напишите программу, которая запрашивает у пользователя пароль, и далее:\n",
        "\n",
        "* если пароль верный, выводит на экран сообщение \"Login success\".\n",
        "* если пароль неверный, выводит на экран сообщение \"Incorrect password, try again!\" до тех пор, пока пользователь не введет верный пароль."
      ]
    },
    {
      "cell_type": "code",
      "source": [
        "password = 'asdfghjkl'\n",
        "while True:\n",
        "  if input(\"Введите пароль: \") == password:\n",
        "    print(\"Login success\")\n",
        "    break\n",
        "  else:\n",
        "    print(\"Incorrect password, try again!\")"
      ],
      "metadata": {
        "colab": {
          "base_uri": "https://localhost:8080/"
        },
        "id": "eKNSQRt1GBwr",
        "outputId": "3a78d09c-684b-45bc-c2ec-944e35e1f445"
      },
      "execution_count": null,
      "outputs": [
        {
          "output_type": "stream",
          "name": "stdout",
          "text": [
            "Введите пароль: gvhuhgrkfr\n",
            "Incorrect password, try again!\n",
            "Введите пароль: asdfghjkl\n",
            "Login success\n"
          ]
        }
      ]
    },
    {
      "cell_type": "markdown",
      "metadata": {
        "id": "Z7k1ojDZxQS2"
      },
      "source": [
        "**Задача 2**\n",
        "\n",
        "\n",
        "\n",
        "    numbers = [3, 7, 11, 23, 18, 48, 81]\n",
        "\n",
        "Напишите программу, которая просит пользователя ввести целое число, и если оно окажжется среди numbers, на экран будет выводиться сообщение: \"Есть совпадение\", если нет ‒ \"Совпадений не найдено\"."
      ]
    },
    {
      "cell_type": "code",
      "source": [
        "n=int(input(\"Введите целое число:\"))\n",
        "numbers = [3, 7, 11, 23, 18, 48, 81]\n",
        "if n in numbers:\n",
        "  print(\"Есть совпадение\")\n",
        "else:\n",
        "  print(\"Совпадений не найдено\")\n"
      ],
      "metadata": {
        "colab": {
          "base_uri": "https://localhost:8080/"
        },
        "id": "iWIfzbBKGLnQ",
        "outputId": "9413282b-9a9e-4dc9-d31c-09fa690eaad0"
      },
      "execution_count": null,
      "outputs": [
        {
          "output_type": "stream",
          "name": "stdout",
          "text": [
            "Введите целое число:24\n",
            "Совпадений не найдено\n"
          ]
        }
      ]
    },
    {
      "cell_type": "markdown",
      "metadata": {
        "id": "SAgKFqQfxQS2"
      },
      "source": [
        "**Задача 3**\n",
        "\n",
        "Напишите программу, которая запрашивает у пользователя номер мобильного телефона, введенный через дефис, а возвращает номер, записанный без дефисов и пробелов.\n",
        "\n",
        "*Входные данные:*\n",
        "\n",
        "    8-900-123-45-67\n",
        "\n",
        "*Выходные данные:*\n",
        "\n",
        "    89001234567"
      ]
    },
    {
      "cell_type": "code",
      "source": [
        "number=input(\"Введите номер телефона:\")\n",
        "number=number.replace('-', '').replace(' ', '')\n",
        "number"
      ],
      "metadata": {
        "colab": {
          "base_uri": "https://localhost:8080/",
          "height": 53
        },
        "id": "xsHaGNhPGwCx",
        "outputId": "b5ee8bd0-1289-459e-ee8e-3f3091dc678f"
      },
      "execution_count": null,
      "outputs": [
        {
          "name": "stdout",
          "output_type": "stream",
          "text": [
            "Введите номер телефона:8-900-123-45-67\n"
          ]
        },
        {
          "output_type": "execute_result",
          "data": {
            "text/plain": [
              "'89001234567'"
            ],
            "application/vnd.google.colaboratory.intrinsic+json": {
              "type": "string"
            }
          },
          "metadata": {},
          "execution_count": 42
        }
      ]
    },
    {
      "cell_type": "markdown",
      "metadata": {
        "id": "jMGZ8536644a"
      },
      "source": [
        "# Задачи со звездочками (Дополнительные)"
      ]
    },
    {
      "cell_type": "markdown",
      "metadata": {
        "id": "qNMR9-847f0H"
      },
      "source": [
        "### *"
      ]
    },
    {
      "cell_type": "markdown",
      "metadata": {
        "id": "6ewiVsYP6VnR"
      },
      "source": [
        "1. Дан список произвольной длины, элементами которого являются списки. Необходиомо вывести список, в списках которого будут только уникальные для каждого из них элементы (которых нет в других списках).\n",
        "\n",
        "Например,\n",
        "\n",
        "[[1, 2, 3], [1, 2, 3], [1, 2, 3], [1, 2, 3, 4]] -> [[], [], [], [4]]\n",
        "\n",
        "[[1, 2], [1, 2, 3, 6, 7], [1, 2, 3], [1, 2, 3, 4]] -> [[], [6, 7], [], [4]]\n",
        "\n",
        "[[1, 2], [1, 2, 3, 6, 7], [1, 2, 3, 6], [1, 2, 3, 4]] -> [[], [7], [], [4]]\n",
        "\n",
        "\n",
        "\n",
        "\n",
        "\n",
        "\n",
        "\n",
        "\n",
        "2. Дана последовательность нулей и единиц произвольной длины.Найти последовательность единиц максимальной длины. Вывести длину последовательности и индекс первого элемента последовтельности. Например, [0, 0, 0, 0, 1, 0, 1, 1, 0, 1, 1, 1] -> len = 3, index = 9\n",
        "\n",
        "\n",
        "\n",
        "\n",
        "3. Дана строка произвольной длины. Посчитайте сколько раз встретился каждый символ. Встречаемость символов считать только для слов имеющих букву 'e'."
      ]
    },
    {
      "cell_type": "markdown",
      "metadata": {
        "id": "dGGSZXY2-dZo"
      },
      "source": [
        "##**"
      ]
    },
    {
      "cell_type": "markdown",
      "metadata": {
        "id": "e9Jxoahd5N9H"
      },
      "source": [
        "1. Дана строка символов, необходимо удалить из строки все палиндромы. Например, 'assagfjdl nvhhvn1' -> 'gfjdl 1'\n",
        "\n",
        "2. Дана строка, содержащая следующие символы {}()[], необходимо проверить верное расположение симовлов в строке и веруть в результате выполнения алгоритма True или False\n",
        "\n",
        "Например:\n",
        "\n",
        "([(){}()]) - True\n",
        "\n",
        "[](){((())[])} - True\n",
        "\n",
        "((([]) - False\n",
        "\n",
        "[]{}}() - False"
      ]
    }
  ],
  "metadata": {
    "colab": {
      "collapsed_sections": [
        "jMGZ8536644a"
      ],
      "provenance": []
    },
    "kernelspec": {
      "display_name": "Python 3 (ipykernel)",
      "language": "python",
      "name": "python3"
    },
    "language_info": {
      "codemirror_mode": {
        "name": "ipython",
        "version": 3
      },
      "file_extension": ".py",
      "mimetype": "text/x-python",
      "name": "python",
      "nbconvert_exporter": "python",
      "pygments_lexer": "ipython3",
      "version": "3.10.11"
    }
  },
  "nbformat": 4,
  "nbformat_minor": 0
}